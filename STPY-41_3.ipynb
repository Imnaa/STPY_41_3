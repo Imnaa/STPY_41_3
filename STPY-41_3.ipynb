{
 "cells": [
  {
   "cell_type": "code",
   "execution_count": null,
   "metadata": {},
   "outputs": [],
   "source": [
    "# Смоделировать игру против лотерейного автомата типа “777”. \n",
    "# Игрок платит 1 руб., после чего выпадает случайное целое число, \n",
    "# равномерно распределенное от 0 до 999. При некоторых значениях \n",
    "# числа игрок получает выигрыш (см. справа)\n",
    "\n",
    "# 777: 200 руб.\n",
    "# 999: 100 руб.\n",
    "# 555: 50 руб.\n",
    "# 333: 15 руб.\n",
    "# 111: 10 руб.\n",
    "# *77: 5 руб.\n",
    "# **7: 3 руб.\n",
    "# *00: 2 руб.\n",
    "# **0: 1 руб.\n",
    "\n",
    "# 1. Выгодна ли игра игроку?\n",
    "# 2. Сколько в среднем приобретает или теряет игрок за одну игру?\n",
    "# 3. Дополнительное задание повышенной сложности.\n",
    "#    Теоретически рассчитать средний выигрыш (проигрыш) и сравнить с результатами моделирования"
   ]
  },
  {
   "cell_type": "code",
   "execution_count": 1,
   "metadata": {},
   "outputs": [],
   "source": [
    "import numpy as np"
   ]
  },
  {
   "cell_type": "code",
   "execution_count": 62,
   "metadata": {},
   "outputs": [
    {
     "name": "stdout",
     "output_type": "stream",
     "text": [
      "Задание 1\n",
      "Игра не выгодна. Проигрыш = -14820 руб. c 100000 руб.\n",
      "Игр сделано: 100000 из них проигрышей: 79.60000000000001 %\n",
      "Задание 2\n",
      "Игра не выгодна. В среднем проигрыш составляет = -19831 руб. за 1000 игр по 100000 руб. (100000000 руб.)\n"
     ]
    }
   ],
   "source": [
    "games = 1000                  # повторений игр\n",
    "all_results = 0             # всего денег \"заработано\")\n",
    "\n",
    "for g in range(games):\n",
    "    moneys_win = 0          # выигрыш\n",
    "    spend_rubs = 100000    # колическтво игр (руб)\n",
    "    losts = 0           # Количество проигрышей\n",
    "    for _ in range(spend_rubs):\n",
    "        random_score = np.random.randint(0, 1000)    # Случайное число от 0 до 999\n",
    "        if random_score == 777:\n",
    "            moneys_win += 200\n",
    "        elif random_score == 999:\n",
    "            moneys_win += 100\n",
    "        elif random_score == 555:\n",
    "            moneys_win += 50\n",
    "        elif random_score == 333:\n",
    "            moneys_win += 15\n",
    "        elif random_score == 111:\n",
    "            moneys_win += 10\n",
    "        elif random_score % 100 == 77:\n",
    "            moneys_win += 5\n",
    "        elif random_score % 10 == 7:\n",
    "            moneys_win += 3 \n",
    "        elif random_score % 100 == 0:\n",
    "            moneys_win += 2\n",
    "        elif random_score % 10 == 0:\n",
    "            moneys_win += 1\n",
    "        else:\n",
    "            losts += 1\n",
    "    #1\n",
    "    result_n1 = moneys_win - spend_rubs\n",
    "    if (g == 0):\n",
    "        print('Задание 1')\n",
    "        if result_n1 > 0:\n",
    "            print(f'Игра выгодна. Выигрыш = {result_n1} руб. c {spend_rubs} руб.')\n",
    "        else:\n",
    "            print(f'Игра не выгодна. Проигрыш = {result_n1} руб. c {spend_rubs} руб.')\n",
    "        print(f'Игр сделано: {spend_rubs} из них проигрышей: {round(losts/spend_rubs,3)*100} %')\n",
    "    #2\n",
    "    all_results += result_n1\n",
    "avg_win = round(all_results/games)\n",
    "print('Задание 2')\n",
    "if avg_win > 0:\n",
    "    print(f'Игра выгодна. В среднем выигрыш составляет = {avg_win} руб. за {games} игр по {spend_rubs} руб. ({spend_rubs*games} руб.)')\n",
    "else:\n",
    "    print(f'Игра не выгодна. В среднем проигрыш составляет = {avg_win} руб. за {games} игр по {spend_rubs} руб. ({spend_rubs*games} руб.)')\n"
   ]
  },
  {
   "cell_type": "code",
   "execution_count": 63,
   "metadata": {},
   "outputs": [
    {
     "name": "stdout",
     "output_type": "stream",
     "text": [
      "Средниый выигрыш = 0.8 руб.\n",
      "Средниый проигрыш = 0.2 руб.\n"
     ]
    }
   ],
   "source": [
    "# количество символов в числе / на всего чисел (000..999 = 1000) * на выигрыш\n",
    "avg_win = 1/1000 * (200+100+50+15+10) + 9/1000 * 5 + (10*9)/1000 * 3 + 10/1000 * 2 + (10*9)/1000 * 1\n",
    "print(f\"Средниый выигрыш = {str(round(avg_win,2))} руб.\")\n",
    "print(f\"Средниый проигрыш = {str(round(1 - avg_win,2))} руб.\")"
   ]
  },
  {
   "cell_type": "code",
   "execution_count": null,
   "metadata": {},
   "outputs": [],
   "source": [
    "# судя по моделированию должно быть наоборот вин=0.2,  а проигрыш 0.8.... Что не так?..."
   ]
  }
 ],
 "metadata": {
  "kernelspec": {
   "display_name": "base",
   "language": "python",
   "name": "python3"
  },
  "language_info": {
   "codemirror_mode": {
    "name": "ipython",
    "version": 3
   },
   "file_extension": ".py",
   "mimetype": "text/x-python",
   "name": "python",
   "nbconvert_exporter": "python",
   "pygments_lexer": "ipython3",
   "version": "3.9.13"
  },
  "orig_nbformat": 4
 },
 "nbformat": 4,
 "nbformat_minor": 2
}
